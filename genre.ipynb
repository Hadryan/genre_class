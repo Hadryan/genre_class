{
  "nbformat": 4,
  "nbformat_minor": 0,
  "metadata": {
    "colab": {
      "name": "genre.ipynb",
      "version": "0.3.2",
      "provenance": [],
      "collapsed_sections": [],
      "include_colab_link": true
    },
    "kernelspec": {
      "name": "python3",
      "display_name": "Python 3"
    }
  },
  "cells": [
    {
      "cell_type": "markdown",
      "metadata": {
        "id": "view-in-github",
        "colab_type": "text"
      },
      "source": [
        "<a href=\"https://colab.research.google.com/github/pooyaww/genre_class/blob/master/genre.ipynb\" target=\"_parent\"><img src=\"https://colab.research.google.com/assets/colab-badge.svg\" alt=\"Open In Colab\"/></a>"
      ]
    },
    {
      "cell_type": "code",
      "metadata": {
        "id": "7roVvbXmLl-J",
        "colab_type": "code",
        "colab": {}
      },
      "source": [
        "!rm -rf 'Data1'"
      ],
      "execution_count": 0,
      "outputs": []
    },
    {
      "cell_type": "code",
      "metadata": {
        "id": "MrMoMYPgcQSM",
        "colab_type": "code",
        "outputId": "6917f2a5-50e0-4b92-e456-e6fd5412aaaa",
        "colab": {
          "base_uri": "https://localhost:8080/",
          "height": 161
        }
      },
      "source": [
        "!git clone https://github.com/saraahmadi70/musicsara.git"
      ],
      "execution_count": 5,
      "outputs": [
        {
          "output_type": "stream",
          "text": [
            "Cloning into 'musicsara'...\n",
            "remote: Enumerating objects: 180, done.\u001b[K\n",
            "remote: Counting objects: 100% (180/180), done.\u001b[K\n",
            "remote: Compressing objects: 100% (167/167), done.\u001b[K\n",
            "remote: Total 1263 (delta 125), reused 23 (delta 13), pack-reused 1083\u001b[K\n",
            "Receiving objects: 100% (1263/1263), 3.25 GiB | 43.06 MiB/s, done.\n",
            "Resolving deltas: 100% (447/447), done.\n",
            "Checking out files: 100% (616/616), done.\n"
          ],
          "name": "stdout"
        }
      ]
    },
    {
      "cell_type": "code",
      "metadata": {
        "id": "Q08BVTWFcTz-",
        "colab_type": "code",
        "outputId": "608e26a1-28de-49be-fa5e-7be531fd1df1",
        "colab": {
          "base_uri": "https://localhost:8080/",
          "height": 35
        }
      },
      "source": [
        "ls 'musicsara/soundsamples/'"
      ],
      "execution_count": 6,
      "outputs": [
        {
          "output_type": "stream",
          "text": [
            "\u001b[0m\u001b[01;34mezafi\u001b[0m/  \u001b[01;34mnohe\u001b[0m/  \u001b[01;34mpop\u001b[0m/  \u001b[01;34mrapejtemaei\u001b[0m/  \u001b[01;34mrock\u001b[0m/  \u001b[01;34msonati\u001b[0m/\n"
          ],
          "name": "stdout"
        }
      ]
    },
    {
      "cell_type": "code",
      "metadata": {
        "id": "USraQMI0cYwj",
        "colab_type": "code",
        "outputId": "f9677074-ce6c-4fec-e03e-998ae443b1d0",
        "colab": {
          "base_uri": "https://localhost:8080/",
          "height": 35
        }
      },
      "source": [
        "import os\n",
        "dir=os.listdir('musicsara/soundsamples/')\n",
        "dir.remove('ezafi')\n",
        "print (dir)"
      ],
      "execution_count": 0,
      "outputs": [
        {
          "output_type": "stream",
          "text": [
            "['rapejtemaei', 'rock', 'nohe', 'pop', 'sonati']\n"
          ],
          "name": "stdout"
        }
      ]
    },
    {
      "cell_type": "code",
      "metadata": {
        "id": "R5d0aY0FcZmy",
        "colab_type": "code",
        "colab": {}
      },
      "source": [
        "!pip install ffmpeg\n",
        "!pip install Audiosegment\n",
        "from IPython.display import clear_output\n",
        "!apt-get -qq -y install xvfb freeglut3-dev ffmpeg> /dev/null\n",
        "import pydub\n",
        "from pydub import AudioSegment\n",
        "from pydub.utils import which\n",
        "AudioSegment.converter = which(\"ffmpeg\")\n",
        "\n",
        "import glob as glob\n",
        "\n",
        "\n",
        "xmin=0\n",
        "n1=50\n",
        "n2=100\n",
        "\n",
        "import ntpath\n",
        "\n",
        "try:\n",
        "  os.mkdir('Data1/')\n",
        "except:\n",
        "  x=0\n",
        "\n",
        "c=0\n",
        "for i in range(len(dir)):\n",
        "  path='musicsara/soundsamples/'+dir[i]+'/*'\n",
        "  for file in sorted(glob.glob(path))[n1:n2]:\n",
        "    sound = pydub.AudioSegment.from_file(file)\n",
        "    sound.export('Data1/'+ntpath.basename(file)+'.wav', format=\"wav\")\n",
        "    c+=1\n",
        "    if c%1==0:\n",
        "      xx=int((c*100)/((n2-n1)*5))\n",
        "      if xx>xmin:\n",
        "        xmin=xx\n",
        "        clear_output()\n",
        "        print(xx,' %')\n",
        "\n",
        "clear_output()"
      ],
      "execution_count": 0,
      "outputs": []
    },
    {
      "cell_type": "code",
      "metadata": {
        "id": "BCZZ48isciZ_",
        "colab_type": "code",
        "outputId": "25b8b320-ca17-4a03-bb62-92ad859e5032",
        "colab": {
          "base_uri": "https://localhost:8080/",
          "height": 35
        }
      },
      "source": [
        "from scipy.io import wavfile\n",
        "from scipy import interpolate\n",
        "import glob as glob\n",
        "import os\n",
        "import numpy as np\n",
        "from IPython.display import clear_output\n",
        "\n",
        "def sing(old_audio,old_samplerate,NEW_SAMPLERATE):\n",
        "  if old_samplerate != NEW_SAMPLERATE:\n",
        "    duration = old_audio.shape[0] / old_samplerate\n",
        "    time_old  = np.linspace(0, duration, old_audio.shape[0])\n",
        "    time_new  = np.linspace(0, duration, int(old_audio.shape[0] * NEW_SAMPLERATE / old_samplerate))\n",
        "    interpolator = interpolate.interp1d(time_old, old_audio.T)\n",
        "    new_audio = interpolator(time_new).T \n",
        "    return(new_audio)\n",
        "\n",
        "datal=[]\n",
        "c=0\n",
        "  \n",
        "for filename in sorted(glob.glob('Data1/*.wav')):\n",
        "  ns=4096\n",
        "  s, a = wavfile.read(filename)\n",
        "  \n",
        "#   data=sing(a,s,ns)\n",
        "  old_audio=a\n",
        "  old_samplerate=s\n",
        "  NEW_SAMPLERATE=ns\n",
        "  \n",
        "  if old_samplerate != NEW_SAMPLERATE:\n",
        "    duration = old_audio.shape[0] / old_samplerate\n",
        "    time_old  = np.linspace(0, duration, old_audio.shape[0])\n",
        "    time_new  = np.linspace(0, duration, int(old_audio.shape[0] * NEW_SAMPLERATE / old_samplerate))\n",
        "    interpolator = interpolate.interp1d(time_old, old_audio.T)\n",
        "    new_audio = interpolator(time_new).T\n",
        "  \n",
        "  data=new_audio  \n",
        "  #\n",
        "  \n",
        "  c+=1\n",
        "  clear_output()\n",
        "  print(int((c*100)/250),' %')\n",
        "  \n",
        "  l=0\n",
        "  for i in range(1000000,0,-100000):\n",
        "    if len(data)>(i+131072):\n",
        "      l=i\n",
        "  try:\n",
        "    data=data[l:l+131072,0]\n",
        "  except:\n",
        "    data=data[l:l+131072]\n",
        "  datal.append(data)\n",
        "  "
      ],
      "execution_count": 0,
      "outputs": [
        {
          "output_type": "stream",
          "text": [
            "100  %\n"
          ],
          "name": "stdout"
        }
      ]
    },
    {
      "cell_type": "code",
      "metadata": {
        "id": "HJpCMxKwcqai",
        "colab_type": "code",
        "colab": {}
      },
      "source": [
        "datal=np.array(datal)"
      ],
      "execution_count": 0,
      "outputs": []
    },
    {
      "cell_type": "code",
      "metadata": {
        "id": "qty0lnEDcsFr",
        "colab_type": "code",
        "outputId": "22600880-8cdc-4e90-86fb-74346d3aec88",
        "colab": {
          "base_uri": "https://localhost:8080/",
          "height": 35
        }
      },
      "source": [
        "datal.shape"
      ],
      "execution_count": 0,
      "outputs": [
        {
          "output_type": "execute_result",
          "data": {
            "text/plain": [
              "(250, 131072)"
            ]
          },
          "metadata": {
            "tags": []
          },
          "execution_count": 8
        }
      ]
    },
    {
      "cell_type": "code",
      "metadata": {
        "id": "1LDEDB6tc17J",
        "colab_type": "code",
        "outputId": "f7da8c9f-8367-43d0-f3ba-b02e2e7203b2",
        "colab": {
          "base_uri": "https://localhost:8080/",
          "height": 226
        }
      },
      "source": [
        "import numpy as np\n",
        "import pickle as plk\n",
        "with open('drive/My\\ Drive/SaraDatal2.plk', 'wb') as fn:\n",
        "  plk.dump(datal,fn)"
      ],
      "execution_count": 0,
      "outputs": [
        {
          "output_type": "error",
          "ename": "FileNotFoundError",
          "evalue": "ignored",
          "traceback": [
            "\u001b[0;31m---------------------------------------------------------------------------\u001b[0m",
            "\u001b[0;31mFileNotFoundError\u001b[0m                         Traceback (most recent call last)",
            "\u001b[0;32m<ipython-input-3-c26ebec6746c>\u001b[0m in \u001b[0;36m<module>\u001b[0;34m()\u001b[0m\n\u001b[1;32m      1\u001b[0m \u001b[0;32mimport\u001b[0m \u001b[0mnumpy\u001b[0m \u001b[0;32mas\u001b[0m \u001b[0mnp\u001b[0m\u001b[0;34m\u001b[0m\u001b[0;34m\u001b[0m\u001b[0m\n\u001b[1;32m      2\u001b[0m \u001b[0;32mimport\u001b[0m \u001b[0mpickle\u001b[0m \u001b[0;32mas\u001b[0m \u001b[0mplk\u001b[0m\u001b[0;34m\u001b[0m\u001b[0;34m\u001b[0m\u001b[0m\n\u001b[0;32m----> 3\u001b[0;31m \u001b[0;32mwith\u001b[0m \u001b[0mopen\u001b[0m\u001b[0;34m(\u001b[0m\u001b[0;34m'drive/My\\ Drive/SaraDatal2.plk'\u001b[0m\u001b[0;34m,\u001b[0m \u001b[0;34m'wb'\u001b[0m\u001b[0;34m)\u001b[0m \u001b[0;32mas\u001b[0m \u001b[0mfn\u001b[0m\u001b[0;34m:\u001b[0m\u001b[0;34m\u001b[0m\u001b[0;34m\u001b[0m\u001b[0m\n\u001b[0m\u001b[1;32m      4\u001b[0m   \u001b[0mplk\u001b[0m\u001b[0;34m.\u001b[0m\u001b[0mdump\u001b[0m\u001b[0;34m(\u001b[0m\u001b[0mdatal\u001b[0m\u001b[0;34m,\u001b[0m\u001b[0mfn\u001b[0m\u001b[0;34m)\u001b[0m\u001b[0;34m\u001b[0m\u001b[0;34m\u001b[0m\u001b[0m\n",
            "\u001b[0;31mFileNotFoundError\u001b[0m: [Errno 2] No such file or directory: 'drive/My\\\\ Drive/SaraDatal2.plk'"
          ]
        }
      ]
    },
    {
      "cell_type": "markdown",
      "metadata": {
        "id": "QzO1XkDBTR45",
        "colab_type": "text"
      },
      "source": [
        ""
      ]
    },
    {
      "cell_type": "markdown",
      "metadata": {
        "id": "NSD1n59kTY9_",
        "colab_type": "text"
      },
      "source": [
        ""
      ]
    },
    {
      "cell_type": "code",
      "metadata": {
        "id": "vHxWhwprc5QQ",
        "colab_type": "code",
        "outputId": "78a662c7-7d01-479e-8430-af786ab28d53",
        "colab": {
          "base_uri": "https://localhost:8080/",
          "height": 1000
        }
      },
      "source": [
        "from google.colab import drive\n",
        "drive.mount('/content/drive')\n",
        "!ls 'drive/My Drive'"
      ],
      "execution_count": 3,
      "outputs": [
        {
          "output_type": "stream",
          "text": [
            "Drive already mounted at /content/drive; to attempt to forcibly remount, call drive.mount(\"/content/drive\", force_remount=True).\n",
            " 05435ceb35a18dceeb7bece29da2ce56.odt.gdoc\n",
            "'07 - beamforming_spatial_response.zip (Unzipped Files)'\n",
            "'08 - spatial_filtering_vs_parametric_methods.zip (Unzipped Files)'\n",
            "'115 2018.gdoc'\n",
            " 4_379951679090458976.gdoc\n",
            "'4_5823545937603068105 (1).txt.gdoc'\n",
            "'4_5823545937603068105 (2).txt.gdoc'\n",
            "'4_5823545937603068105 (3).txt.gdoc'\n",
            "'4_5823545937603068105 (4).txt.gdoc'\n",
            " 4_5823545937603068105.txt.gdoc\n",
            "'48 2018.odt.gdoc'\n",
            " 4shanbeh.gdoc\n",
            "'74 2018.odt.gdoc'\n",
            " 814719578_32705.jpg\n",
            "'95 2018.gdoc'\n",
            "'Account Order Confirmation (1).pdf'\n",
            "'Account Order Confirmation (2).pdf'\n",
            "'Account Order Confirmation (3).pdf'\n",
            "'Account Order Confirmation.pdf'\n",
            "'additional excercises with solutions.pdf'\n",
            " Amiri\n",
            "'Amiri (1).docx.gdoc'\n",
            " Amiri.docx.gdoc\n",
            " AMIRI.pdf\n",
            " Amir_phd_grad\n",
            "'Application (1).pdf'\n",
            " Application.pdf\n",
            " ARmodel.gdoc\n",
            " audio_restoration.pdf\n",
            " Barbershop\n",
            " bdSound\n",
            " Bellagio_Mehdi_private\n",
            "'Bi spectral analysys.gdoc'\n",
            " Bonifico.pdf\n",
            " Booking.pdf\n",
            "'B.Sc. Course Description OF COMPUTER HARDWARE-f.doc'\n",
            " Bürgeramt2.pdf\n",
            "'Bürgeramt - Page 1.pdf'\n",
            " c752b698-4949-48b0-8623-edb4d2de1dea.xls\n",
            "'Career Service | The job market meets students and graduates.pdf'\n",
            " Catering_service_agreed_restaurants_2015-2016.pdf\n",
            " charge.jpg\n",
            "'Checkliste zu Ihrem Technikertermin.pdf'\n",
            "'CICT 2015_16'\n",
            "'Cloud Print test page.pdf'\n",
            " CNN_AgeGenderEstimation.pdf\n",
            " Codesign\n",
            "'Colab Notebooks'\n",
            " Communication-Acoustics-An-Introduction-to-Speech-Audio-and-Psychoacoustics.pdf\n",
            "'Como Carnaval - 30 May 2015'\n",
            "'Conceptual Design.gdraw'\n",
            "'Cooperation linux.gdoc'\n",
            "'Copy of Circuit Schematic Template (1).gdraw'\n",
            "'Copy of Circuit Schematic Template (2).gdraw'\n",
            "'Copy of Circuit Schematic Template.gdraw'\n",
            "'Copy of Logic Design.gdraw'\n",
            "'Curricularanalyse_-_Informatik (1).xls'\n",
            " CV\n",
            " DAAP_exam_simulation.pdf\n",
            " DAAP_sample_excercises_and_questions.pdf\n",
            "'Department of Electrical & Computer.pdf'\n",
            " Dfki_visa\n",
            " Dictionary_91_11_1_pa.docx\n",
            " Document_ireland\n",
            " DSU2\n",
            " DSU_Puya\n",
            "'Electronic Diversity Visa Lottery (1).pdf'\n",
            "'Electronic Diversity Visa Lottery.pdf'\n",
            " Europass\n",
            " eurowings_boardingpass_BFUIKX_Amiri_Puya_CGNMXP.pdf\n",
            " Fav-book.txt\n",
            " F.F\n",
            " FLIX-Ticket-1012397271.pdf\n",
            " Genres.gsheet\n",
            " German\n",
            "'german-grade-calculation1 (1).xls'\n",
            "'Google Buzz'\n",
            "'Google Photos'\n",
            " Grad_docs\n",
            " granttips_May2010.pdf\n",
            "'GSM_on MIps_Report'\n",
            " Hasegawa-Johnson09mlss.pdf\n",
            "'https:  modern.enbank.net ibnew transfer transferReceipt.action.pdf'\n",
            " IMAG0259.jpg\n",
            " IMG_20150313_193823.jpg\n",
            " IMG_20160717_131508_092.JPG\n",
            "'Imported from Google Notebook - My Notebook .gdoc'\n",
            " Iran.gdoc\n",
            " Key.xlsx\n",
            " master-thesis-editted-version.docx\n",
            " master-thesis-editted-version.docx.gdoc\n",
            "'MessagefromLEGOrecruitment (1).PDF'\n",
            " MessagefromLEGOrecruitment.PDF\n",
            " MIAAAAA\n",
            " MIA-Assignment-description.gdoc\n",
            " m-id-card.pdf\n",
            "'MILSVDATEV1-Fatture (1).odt.gdoc'\n",
            "'MILSVDATEV1-Fatture (2).odt.gdoc'\n",
            " MILSVDATEV1-Fatture.odt.gdoc\n",
            " MMSP2_12FEB_2015.txt.gdoc\n",
            " music\n",
            "'My Tracks'\n",
            " Neatech+\n",
            " notesandmath.png\n",
            " Oslo_docs\n",
            "'other stuff'\n",
            "'Page Design.gdraw'\n",
            " Permesso2\n",
            " Personal_Spatial_Audio_in_Cars.pdf\n",
            " Polimi-Docs\n",
            "'pooya (1).w@gmail.com-takeout.zip'\n",
            " pooya.w@gmail.com-takeout.zip\n",
            " Portfolio.gslides\n",
            "'Prenotazione visite mediche Cus Milano.pdf'\n",
            "'problem solutions-P27 to p46.gdoc'\n",
            "'Professional profile.gslides'\n",
            " profilepic41479_3.gif\n",
            " puya\n",
            " PuyaaBU\n",
            "'Puya Amiri-Enrolment Certf..jpg'\n",
            "'Puya Rhythm Analysis'\n",
            "'Qazvin Template form of Recommendation.doc'\n",
            "'Qazvin Template form of Recommendation.gdoc'\n",
            "'Realtime audio processing'\n",
            " RECOM.doc.gdoc\n",
            " RotationStage_13_01_18_Gattinara.gsheet\n",
            " RPi\n",
            " Saar_uni\n",
            " sang.jpg\n",
            "'Science project (1).gslides'\n",
            "'Science project (2).gslides'\n",
            "'Science project.gslides'\n",
            " Sharp_By_Daniel_Harkin.png\n",
            " Signal-lab2.gdoc\n",
            " Sina_Music\n",
            " SMC_Summer_school.zip\n",
            " SOcks.jpg\n",
            " Sound_recognition.pdf\n",
            " SSSP_exam_sample_questions.pdf\n",
            " SSSP-exam_simulation.pdf\n",
            " Student_internship_application_form_August_2016.gdoc\n",
            " T151210-2098342-707702.pdf\n",
            " Test_Report1.ods.gsheet\n",
            " Thesis\n",
            " thesis_plots.gsheet\n",
            " TIP_WP_cnn_FINAL.pdf\n",
            "'To H.Locke.gdoc'\n",
            "'topup.enbank.net include resid.php?id=MjQ1MjI3.pdf'\n",
            " Trip_Bellagio\n",
            " Uni-saar-sideProjects\n",
            " UniversityofUlster_MutualConfidentialityAgreement_Template.doc\n",
            " UniversityofUlster_MutualConfidentialityAgreement_Template.doc.gdoc\n",
            "'Untitled 1 (1).pdf'\n",
            "'Untitled 1.pdf'\n",
            "'Untitled document (1).gdoc'\n",
            "'Untitled document (2).gdoc'\n",
            "'Untitled document (3).gdoc'\n",
            "'Untitled document (4).gdoc'\n",
            "'Untitled document (5).gdoc'\n",
            "'Untitled document (6).gdoc'\n",
            "'Untitled document.gdoc'\n",
            "'Untitled drawing (1).gdraw'\n",
            "'Untitled drawing (2).gdraw'\n",
            "'Untitled drawing (3).gdraw'\n",
            "'Untitled drawing.gdraw'\n",
            "'Untitled map.gmap'\n",
            "'Untitled presentation.gslides'\n",
            "'Untitled Report'\n",
            "'Untitled Site.gsite'\n",
            "'Untitled spreadsheet.gsheet'\n",
            " video-7450d47f2b37eef3ac0cb4b19aaee063fb48fa8224eb15a2870cc615055ada2a-V.mp4\n",
            " VPN-Einstellungen.pdf\n",
            " Wg-reciepts\n",
            " WP_20150508_16_36_22_Pro.jpg\n",
            "'بانکداري اينترنتي.pdf'\n",
            "'برنامه ی جلسه ساعتی.gsheet'\n",
            "'دولت آلمان قانون ورود مهاجران متخصص به این کشور را تصویب کرد'\n",
            "'صفحه مشترکین وایمکس مبین نت - نتیجه پرداخت اینترنتی.pdf'\n",
            "'فروش اینترنتی شارژ.pdf'\n",
            "'فروش اینترنتی شارژ سیم کارت اعتباری (1).pdf'\n",
            "'فروش اینترنتی شارژ سیم کارت اعتباری.pdf'\n",
            "'فروشگاه محصولات فرهنگي گــــاج.pdf'\n",
            " لیست.gsheet\n",
            "'مقالات علمی - Apply Abroad (1).pdf'\n",
            "'مقالات علمی - Apply Abroad.pdf'\n",
            " نشا.pdf\n",
            "'نمایش دامنه (‎usalottery.ir‎) – ایرنیک (1).pdf'\n",
            "'نمایش دامنه (‎usalottery.ir‎) – ایرنیک.pdf'\n"
          ],
          "name": "stdout"
        }
      ]
    },
    {
      "cell_type": "code",
      "metadata": {
        "id": "Xdbjeojxc8Zf",
        "colab_type": "code",
        "colab": {}
      },
      "source": [
        "%reset\n",
        "import numpy as np\n",
        "import pickle as plk\n",
        "with open('drive/My Drive/SaraDatal2.plk', 'rb') as fn:\n",
        "  datal=plk.load(fn)"
      ],
      "execution_count": 0,
      "outputs": []
    },
    {
      "cell_type": "code",
      "metadata": {
        "id": "jHNb8ztkdHZ-",
        "colab_type": "code",
        "colab": {}
      },
      "source": [
        "!rm -rf 'Data'\n",
        "import numpy as np\n",
        "import pickle as plk\n",
        "with open('drive/My Drive/SaraDatal1.plk', 'rb') as fn:\n",
        "  datal1=plk.load(fn)"
      ],
      "execution_count": 0,
      "outputs": []
    },
    {
      "cell_type": "code",
      "metadata": {
        "id": "sfrx3FHDdK0T",
        "colab_type": "code",
        "colab": {}
      },
      "source": [
        "data=[]\n",
        "for i in range(len(datal)):\n",
        "  data.append(datal[i])\n",
        "  data.append(datal1[i])\n",
        "\n",
        "  \n",
        "len(data)\n",
        "# import numpy as np\n",
        "# data=np.array(data)\n",
        "# print(data.shape)"
      ],
      "execution_count": 0,
      "outputs": []
    },
    {
      "cell_type": "code",
      "metadata": {
        "id": "9atcuAKcdNVd",
        "colab_type": "code",
        "colab": {}
      },
      "source": [
        "import numpy as np\n",
        "d=np.array(data)\n",
        "print(d.shape)"
      ],
      "execution_count": 0,
      "outputs": []
    },
    {
      "cell_type": "code",
      "metadata": {
        "id": "oMRmJvBMdUw-",
        "colab_type": "code",
        "colab": {}
      },
      "source": [
        "# !pip install librosa\n",
        "import librosa\n",
        "import librosa.core as lc\n",
        "import librosa.display\n",
        "import matplotlib.image as mpimg\n",
        "import matplotlib.pyplot as plt\n",
        "from IPython.display import clear_output\n",
        "clear_output()\n",
        "sts=[]\n",
        "c=0\n",
        "for i in range(len(d)):\n",
        "  n_f=510\n",
        "  hl=514\n",
        "# st = lc.stft(sounds[0],n_fft=n_f,hop_length=hl)\n",
        "# st = lc.stft(sounds[0])\n",
        "  y=d[i]\n",
        "  n = len(y)\n",
        "  n_fft = n_f\n",
        "#   y_pad = librosa.util.fix_length(y, n + n_fft // 2)\n",
        "  D = librosa.stft(y, n_fft=n_fft, hop_length=hl)\n",
        "#   y_out = librosa.istft(D, length=n, hop_length=hl)\n",
        "  D1=librosa.amplitude_to_db(D, ref=np.max)+80\n",
        "  sts.append(D1)\n",
        "\n",
        "\n",
        "# axs.ravel()\n",
        "D=D.astype(int)\n",
        "librosa.display.specshow(librosa.amplitude_to_db(D,\n",
        "                          ref=np.max),\n",
        "                          y_axis='linear', x_axis='time')\n",
        "plt.title('Power spectrogram')\n",
        "plt.colorbar(format='%+2.0f dB')\n",
        "plt.tight_layout()\n",
        "#   plt.axis(\"off\")\n",
        "#   plt.savefig('plot.jpg',bbox_inches='tight', pad_inches=0)\n",
        "#   img=mpimg.imread('plot.jpg')\n",
        "#   plt.axis(\"off\")\n",
        "#   img.setflags(write=1)\n",
        "#   x=img\n",
        "#   x[297:len(img),:,:]=0\n",
        "#   x[:,0:50,:]=0\n",
        "#   x=x[0:298,50:len(img[0]),:]\n",
        "#   sts.append(x)\n",
        "#   clear_output()\n",
        "#   c+=1\n",
        "#   if c%5==0:\n",
        "#     print(c)"
      ],
      "execution_count": 0,
      "outputs": []
    },
    {
      "cell_type": "code",
      "metadata": {
        "id": "l1N_UaLgdVvV",
        "colab_type": "code",
        "colab": {}
      },
      "source": [
        "sts=np.array(sts)\n",
        "sts.shape"
      ],
      "execution_count": 0,
      "outputs": []
    },
    {
      "cell_type": "code",
      "metadata": {
        "id": "lteRoHk-ddGN",
        "colab_type": "code",
        "colab": {}
      },
      "source": [
        "import numpy as np\n",
        "import pickle as plk\n",
        "with open('drive/My Drive/stsSara.plk', 'wb') as fn:\n",
        "  plk.dump(sts,fn)"
      ],
      "execution_count": 0,
      "outputs": []
    },
    {
      "cell_type": "code",
      "metadata": {
        "id": "2A928PH5dg4E",
        "colab_type": "code",
        "outputId": "857a8cba-2297-4e7d-cb09-7d0a5ac453db",
        "colab": {
          "base_uri": "https://localhost:8080/",
          "height": 34
        }
      },
      "source": [
        "# %reset\n",
        "\n",
        "import numpy as np\n",
        "import pickle as plk\n",
        "with open('drive/My Drive/stsSara.plk', 'rb') as fn:\n",
        "  data=plk.load(fn)\n",
        "data.shape"
      ],
      "execution_count": 0,
      "outputs": [
        {
          "output_type": "execute_result",
          "data": {
            "text/plain": [
              "(500, 256, 256)"
            ]
          },
          "metadata": {
            "tags": []
          },
          "execution_count": 26
        }
      ]
    },
    {
      "cell_type": "code",
      "metadata": {
        "id": "V6232moEdhox",
        "colab_type": "code",
        "outputId": "78bf1fd3-1271-4020-e6e6-bbc4759882e5",
        "colab": {
          "base_uri": "https://localhost:8080/",
          "height": 85
        }
      },
      "source": [
        "y=[]\n",
        "for i in range(len(data)):\n",
        "  y.append(np.floor(i/100))\n",
        "\n",
        "y=np.array(y)\n",
        "\n",
        "xtr=[]\n",
        "ytr=[]\n",
        "xte=[]\n",
        "yte=[]\n",
        "\n",
        "for i in range(5):\n",
        "  for j in range(80):\n",
        "    r=np.random.rand()*99\n",
        "    r=np.floor(r)\n",
        "    r=int(r)\n",
        "    xtr.append(data[i*100+r])\n",
        "    ytr.append(y[i*100+r])\n",
        "  for j in range(20):\n",
        "    r=np.random.rand()*99\n",
        "    r=np.floor(r)\n",
        "    r=int(r)\n",
        "    xte.append(data[i*100+r])\n",
        "    yte.append(y[i*100+r])\n",
        "\n",
        "xtr=np.array(xtr)\n",
        "xte=np.array(xte)\n",
        "ytr=np.array(ytr)\n",
        "yte=np.array(yte)\n",
        "\n",
        "print(xtr.shape)\n",
        "print(ytr.shape)\n",
        "print(xte.shape)\n",
        "print(yte.shape)"
      ],
      "execution_count": 0,
      "outputs": [
        {
          "output_type": "stream",
          "text": [
            "(400, 256, 256)\n",
            "(400,)\n",
            "(100, 256, 256)\n",
            "(100,)\n"
          ],
          "name": "stdout"
        }
      ]
    },
    {
      "cell_type": "code",
      "metadata": {
        "id": "pyOlgucUNrX5",
        "colab_type": "code",
        "outputId": "02d50b70-a8f7-4ceb-c9aa-5f66355c7f88",
        "colab": {
          "base_uri": "https://localhost:8080/",
          "height": 527
        }
      },
      "source": [
        "y"
      ],
      "execution_count": 0,
      "outputs": [
        {
          "output_type": "execute_result",
          "data": {
            "text/plain": [
              "array([0., 0., 0., 0., 0., 0., 0., 0., 0., 0., 0., 0., 0., 0., 0., 0., 0.,\n",
              "       0., 0., 0., 0., 0., 0., 0., 0., 0., 0., 0., 0., 0., 0., 0., 0., 0.,\n",
              "       0., 0., 0., 0., 0., 0., 0., 0., 0., 0., 0., 0., 0., 0., 0., 0., 0.,\n",
              "       0., 0., 0., 0., 0., 0., 0., 0., 0., 0., 0., 0., 0., 0., 0., 0., 0.,\n",
              "       0., 0., 0., 0., 0., 0., 0., 0., 0., 0., 0., 0., 0., 0., 0., 0., 0.,\n",
              "       0., 0., 0., 0., 0., 0., 0., 0., 0., 0., 0., 0., 0., 0., 0., 1., 1.,\n",
              "       1., 1., 1., 1., 1., 1., 1., 1., 1., 1., 1., 1., 1., 1., 1., 1., 1.,\n",
              "       1., 1., 1., 1., 1., 1., 1., 1., 1., 1., 1., 1., 1., 1., 1., 1., 1.,\n",
              "       1., 1., 1., 1., 1., 1., 1., 1., 1., 1., 1., 1., 1., 1., 1., 1., 1.,\n",
              "       1., 1., 1., 1., 1., 1., 1., 1., 1., 1., 1., 1., 1., 1., 1., 1., 1.,\n",
              "       1., 1., 1., 1., 1., 1., 1., 1., 1., 1., 1., 1., 1., 1., 1., 1., 1.,\n",
              "       1., 1., 1., 1., 1., 1., 1., 1., 1., 1., 1., 1., 1., 2., 2., 2., 2.,\n",
              "       2., 2., 2., 2., 2., 2., 2., 2., 2., 2., 2., 2., 2., 2., 2., 2., 2.,\n",
              "       2., 2., 2., 2., 2., 2., 2., 2., 2., 2., 2., 2., 2., 2., 2., 2., 2.,\n",
              "       2., 2., 2., 2., 2., 2., 2., 2., 2., 2., 2., 2., 2., 2., 2., 2., 2.,\n",
              "       2., 2., 2., 2., 2., 2., 2., 2., 2., 2., 2., 2., 2., 2., 2., 2., 2.,\n",
              "       2., 2., 2., 2., 2., 2., 2., 2., 2., 2., 2., 2., 2., 2., 2., 2., 2.,\n",
              "       2., 2., 2., 2., 2., 2., 2., 2., 2., 2., 2., 3., 3., 3., 3., 3., 3.,\n",
              "       3., 3., 3., 3., 3., 3., 3., 3., 3., 3., 3., 3., 3., 3., 3., 3., 3.,\n",
              "       3., 3., 3., 3., 3., 3., 3., 3., 3., 3., 3., 3., 3., 3., 3., 3., 3.,\n",
              "       3., 3., 3., 3., 3., 3., 3., 3., 3., 3., 3., 3., 3., 3., 3., 3., 3.,\n",
              "       3., 3., 3., 3., 3., 3., 3., 3., 3., 3., 3., 3., 3., 3., 3., 3., 3.,\n",
              "       3., 3., 3., 3., 3., 3., 3., 3., 3., 3., 3., 3., 3., 3., 3., 3., 3.,\n",
              "       3., 3., 3., 3., 3., 3., 3., 3., 3., 4., 4., 4., 4., 4., 4., 4., 4.,\n",
              "       4., 4., 4., 4., 4., 4., 4., 4., 4., 4., 4., 4., 4., 4., 4., 4., 4.,\n",
              "       4., 4., 4., 4., 4., 4., 4., 4., 4., 4., 4., 4., 4., 4., 4., 4., 4.,\n",
              "       4., 4., 4., 4., 4., 4., 4., 4., 4., 4., 4., 4., 4., 4., 4., 4., 4.,\n",
              "       4., 4., 4., 4., 4., 4., 4., 4., 4., 4., 4., 4., 4., 4., 4., 4., 4.,\n",
              "       4., 4., 4., 4., 4., 4., 4., 4., 4., 4., 4., 4., 4., 4., 4., 4., 4.,\n",
              "       4., 4., 4., 4., 4., 4., 4.])"
            ]
          },
          "metadata": {
            "tags": []
          },
          "execution_count": 11
        }
      ]
    },
    {
      "cell_type": "code",
      "metadata": {
        "id": "ZiuI2AdZO7-E",
        "colab_type": "code",
        "outputId": "81b6de06-d19d-445a-be2a-ec68a7a70b3b",
        "colab": {
          "base_uri": "https://localhost:8080/",
          "height": 1000
        }
      },
      "source": [
        "xtr\n"
      ],
      "execution_count": 0,
      "outputs": [
        {
          "output_type": "execute_result",
          "data": {
            "text/plain": [
              "array([[[31.139145  ,  5.9196625 , 37.46814   , ...,  9.48745   ,\n",
              "         19.35556   ,  9.562798  ],\n",
              "        [ 0.81468964, 14.901108  , 27.47068   , ..., 16.751335  ,\n",
              "         17.180244  ,  0.        ],\n",
              "        [31.295006  , 25.092926  , 36.036697  , ..., 16.575611  ,\n",
              "         11.608574  , 13.154259  ],\n",
              "        ...,\n",
              "        [37.61284   , 37.166534  , 42.60872   , ..., 22.707443  ,\n",
              "         23.75283   , 34.03962   ],\n",
              "        [28.128693  , 40.347237  , 42.18637   , ..., 11.563843  ,\n",
              "         19.643875  , 31.925682  ],\n",
              "        [39.49823   , 39.419014  , 41.684334  , ...,  0.        ,\n",
              "         19.670944  , 29.08313   ]],\n",
              "\n",
              "       [[60.72042   , 26.029701  , 12.603569  , ..., 42.848877  ,\n",
              "         24.303513  , 49.30211   ],\n",
              "        [60.259537  , 42.04413   , 37.918205  , ..., 39.0083    ,\n",
              "         30.853806  , 48.452347  ],\n",
              "        [58.164246  , 43.44081   , 40.812485  , ..., 33.89936   ,\n",
              "         37.320686  , 43.859825  ],\n",
              "        ...,\n",
              "        [41.544815  , 32.117058  , 40.035606  , ..., 35.6401    ,\n",
              "         44.390427  , 40.158554  ],\n",
              "        [54.63446   , 45.85959   , 32.05577   , ..., 39.882057  ,\n",
              "         35.943268  , 45.45102   ],\n",
              "        [57.2315    , 45.477867  , 36.07895   , ..., 43.91198   ,\n",
              "          3.033928  , 47.93933   ]],\n",
              "\n",
              "       [[47.938553  , 46.712067  , 32.275253  , ..., 38.386497  ,\n",
              "         49.781914  , 53.891693  ],\n",
              "        [49.032066  , 43.80874   , 29.654335  , ..., 40.48716   ,\n",
              "         47.078804  , 52.45359   ],\n",
              "        [50.569862  , 38.753616  , 38.54593   , ..., 42.121765  ,\n",
              "         41.257492  , 50.96354   ],\n",
              "        ...,\n",
              "        [48.506874  , 40.839256  , 42.16719   , ..., 43.398697  ,\n",
              "         26.561562  , 34.19172   ],\n",
              "        [43.986458  , 45.633934  , 32.68255   , ..., 41.82077   ,\n",
              "         26.399834  , 33.134277  ],\n",
              "        [32.826454  , 44.77604   , 38.34098   , ..., 39.777283  ,\n",
              "         22.450554  , 35.298607  ]],\n",
              "\n",
              "       ...,\n",
              "\n",
              "       [[24.115189  , 18.888214  ,  2.6238708 , ..., 25.550346  ,\n",
              "         37.938393  , 35.356575  ],\n",
              "        [24.446915  , 15.794052  ,  5.417572  , ..., 31.723045  ,\n",
              "         30.62342   , 36.428635  ],\n",
              "        [25.909683  , 14.771439  , 12.285362  , ..., 35.09726   ,\n",
              "         35.20665   , 43.042686  ],\n",
              "        ...,\n",
              "        [24.433311  , 18.900398  , 21.548851  , ..., 35.294327  ,\n",
              "         40.012375  , 27.800865  ],\n",
              "        [18.430008  , 15.085144  , 23.327309  , ..., 37.556274  ,\n",
              "         36.621223  , 30.505852  ],\n",
              "        [ 0.        ,  8.308044  , 18.586891  , ..., 34.34118   ,\n",
              "         25.195854  , 27.201515  ]],\n",
              "\n",
              "       [[48.178673  , 40.15387   , 26.072403  , ..., 31.90673   ,\n",
              "         36.70955   , 52.642677  ],\n",
              "        [52.03531   , 42.18155   , 33.366905  , ..., 45.89158   ,\n",
              "         46.713295  , 59.789978  ],\n",
              "        [56.00715   , 45.7098    , 28.441261  , ..., 59.330956  ,\n",
              "         55.87748   , 61.781456  ],\n",
              "        ...,\n",
              "        [54.722588  , 41.911438  , 27.030823  , ..., 24.692154  ,\n",
              "         24.229187  , 44.971214  ],\n",
              "        [53.430954  , 41.352753  , 29.535156  , ..., 33.068855  ,\n",
              "         29.686653  , 10.371796  ],\n",
              "        [50.97724   , 28.759712  , 27.61013   , ..., 34.43502   ,\n",
              "         30.0214    , 36.204544  ]],\n",
              "\n",
              "       [[30.355766  , 39.89099   , 21.138134  , ..., 36.6382    ,\n",
              "         44.21798   , 36.471886  ],\n",
              "        [29.905418  , 40.40039   , 27.647339  , ..., 32.83078   ,\n",
              "         47.12401   , 31.819096  ],\n",
              "        [38.00409   , 41.41533   , 28.941349  , ..., 20.889309  ,\n",
              "         50.187973  , 43.26619   ],\n",
              "        ...,\n",
              "        [41.65065   , 22.828056  , 29.272667  , ..., 37.11544   ,\n",
              "         17.581314  , 45.71367   ],\n",
              "        [38.810097  , 32.245712  , 37.35791   , ..., 33.733215  ,\n",
              "         39.7622    , 43.159485  ],\n",
              "        [25.71045   , 36.291023  , 39.763405  , ...,  9.329147  ,\n",
              "         43.37178   , 42.56594   ]]], dtype=float32)"
            ]
          },
          "metadata": {
            "tags": []
          },
          "execution_count": 28
        }
      ]
    },
    {
      "cell_type": "code",
      "metadata": {
        "id": "v33M3PrHdral",
        "colab_type": "code",
        "outputId": "15eb8059-91ea-482e-cf7d-28862c3cf11c",
        "colab": {
          "base_uri": "https://localhost:8080/",
          "height": 204
        }
      },
      "source": [
        "#@title Beloved Deep Learning\n",
        "from __future__ import print_function\n",
        "import keras\n",
        "from keras.datasets import mnist\n",
        "from keras.layers import Dense, Flatten, BatchNormalization,Reshape\n",
        "from keras.layers import Conv2D, MaxPooling2D, LeakyReLU, Dropout, CuDNNGRU\n",
        "from keras.models import Sequential\n",
        "import matplotlib.pylab as plt\n",
        "import numpy as np\n",
        "batch_size = 10\n",
        "num_classes = 5\n",
        "epochs = 50\n",
        "\n",
        "# input image dimensions\n",
        "img_x, img_y = 256, 256\n",
        "x_train=xtr\n",
        "y_train=ytr\n",
        "x_test=xte\n",
        "y_test=yte\n",
        "# x_train /= 1\n",
        "# reshape the data into a 4D tensor - (sample_number, x_img_size, y_img_size, num_channels)\n",
        "# because the MNIST is greyscale, we only have a single channel - RGB colour images would have 3\n",
        "x_train = x_train.reshape(x_train.shape[0], img_x, img_y, 1)\n",
        "x_test = x_test.reshape(x_test.shape[0], img_x, img_y, 1)\n",
        "# x_test = x_test.reshape(x_test.shape[0], img_x, img_y, 1)\n",
        "input_shape = (img_x, img_y, 1)\n",
        "\n",
        "#convert the data to the right type\n",
        "y_train = keras.utils.to_categorical(y_train, num_classes)\n",
        "y_test = keras.utils.to_categorical(y_test, num_classes)\n",
        "# y_test = keras.utils.to_categorical(y_test, num_classes)\n",
        "\n",
        "lre=0.0\n",
        "dr1=0\n",
        "dr2=0\n",
        "dr3=0\n",
        "dr4=0\n",
        "dr5=0\n",
        "\n",
        "fn=8\n",
        "nn=2\n",
        "ks=3\n",
        "\n",
        "model = Sequential()\n",
        "model.add(Conv2D(fn, kernel_size=ks, input_shape=input_shape, padding='same'))\n",
        "model.add(LeakyReLU(alpha=lre))\n",
        "model.add(Dropout(dr1))\n",
        "model.add(BatchNormalization(momentum=0.8))\n",
        "model.add(MaxPooling2D(pool_size=(2, 2)))\n",
        "fn=fn*nn\n",
        "model.add(Conv2D(fn, ks, padding='same'))\n",
        "model.add(LeakyReLU(alpha=lre))\n",
        "model.add(Dropout(dr2))\n",
        "model.add(BatchNormalization(momentum=0.8))\n",
        "model.add(MaxPooling2D(pool_size=(2, 2)))\n",
        "fn=fn*nn\n",
        "model.add(Conv2D(fn, ks, padding='same'))\n",
        "model.add(LeakyReLU(alpha=lre))\n",
        "model.add(Dropout(dr3))\n",
        "model.add(BatchNormalization(momentum=0.8))\n",
        "model.add(MaxPooling2D(pool_size=(2, 2)))\n",
        "fn=fn*nn\n",
        "model.add(Conv2D(fn, ks, padding='same'))\n",
        "model.add(LeakyReLU(alpha=lre))\n",
        "model.add(Dropout(dr4))\n",
        "model.add(BatchNormalization(momentum=0.8))\n",
        "model.add(MaxPooling2D(pool_size=(2, 2)))\n",
        "fn=fn*nn\n",
        "model.add(Conv2D(fn, ks, padding='same'))\n",
        "model.add(LeakyReLU(alpha=lre))\n",
        "model.add(BatchNormalization(momentum=0.8))\n",
        "model.add(MaxPooling2D(pool_size=(2, 2)))\n",
        "conv_to_gru=(64,fn)\n",
        "model.add(Reshape(target_shape=conv_to_gru))\n",
        "# model.add(CuDNNGRU(25, return_sequences=True))\n",
        "# model.add(CuDNNGRU(50, return_sequences=False))\n",
        "model.add(Dropout(dr5))\n",
        "model.add(Flatten())\n",
        "model.add(Dense(3))\n",
        "model.add(LeakyReLU(alpha=0))\n",
        "model.add(Dense(num_classes, activation='softmax'))\n",
        "\n",
        "\n",
        "\n",
        "opt=keras.optimizers.Adam(lr=0.0001)\n",
        "\n",
        "model.compile(loss=keras.losses.categorical_crossentropy,\n",
        "              optimizer=opt,\n",
        "              metrics=['accuracy'])\n",
        "\n",
        "\n",
        "# opt=keras.optimizers.Adam(lr=0.01)\n",
        "\n",
        "# model.compile(loss=keras.losses.categorical_crossentropy,\n",
        "#               optimizer=opt,\n",
        "#               metrics=['accuracy'])\n",
        "\n",
        "# y_integers = np.argmax(y, axis=1)\n",
        "# from sklearn.utils import compute_class_weight\n",
        "# classWeight = compute_class_weight('balanced', (y_integers), y_integers) \n",
        "# classWeight = dict(enumerate(classWeight))\n",
        "\n",
        "history=model.fit(x_train, y_train,\n",
        "          batch_size=batch_size,\n",
        "          epochs=epochs,\n",
        "          verbose=2,\n",
        "        #   validation_data=(x_test, y_test),\n",
        "        #  class_weight=classWeight)\n",
        "          validation_data=(x_test, y_test))\n",
        "#\n",
        "#model.summary()"
      ],
      "execution_count": 0,
      "outputs": [
        {
          "output_type": "stream",
          "text": [
            "Train on 400 samples, validate on 100 samples\n",
            "Epoch 1/5\n",
            " - 33s - loss: 1.6644 - acc: 0.2425 - val_loss: 1.5973 - val_acc: 0.2000\n",
            "Epoch 2/5\n",
            " - 30s - loss: 1.5451 - acc: 0.2325 - val_loss: 1.5757 - val_acc: 0.1400\n",
            "Epoch 3/5\n",
            " - 30s - loss: 1.4429 - acc: 0.3100 - val_loss: 1.5373 - val_acc: 0.2200\n",
            "Epoch 4/5\n",
            " - 30s - loss: 1.3662 - acc: 0.3475 - val_loss: 1.5330 - val_acc: 0.2400\n",
            "Epoch 5/5\n",
            " - 30s - loss: 1.3086 - acc: 0.3475 - val_loss: 1.4874 - val_acc: 0.2900\n"
          ],
          "name": "stdout"
        }
      ]
    },
    {
      "cell_type": "code",
      "metadata": {
        "id": "-Nk87ZilSVLD",
        "colab_type": "code",
        "colab": {}
      },
      "source": [
        ""
      ],
      "execution_count": 0,
      "outputs": []
    },
    {
      "cell_type": "markdown",
      "metadata": {
        "id": "edJjPRweSTx7",
        "colab_type": "text"
      },
      "source": [
        ""
      ]
    },
    {
      "cell_type": "code",
      "metadata": {
        "id": "JLmD60LlVFIe",
        "colab_type": "code",
        "outputId": "bdc4dfec-9452-447e-db41-233625e7cd3f",
        "colab": {
          "base_uri": "https://localhost:8080/",
          "height": 231
        }
      },
      "source": [
        "import matplotlib.pyplot as plt\n",
        "plt.figure()\n",
        "#plt.plot(s _losses)\n",
        "plt.plot(val_losses)\n",
        "plt.show()"
      ],
      "execution_count": 0,
      "outputs": [
        {
          "output_type": "error",
          "ename": "NameError",
          "evalue": "ignored",
          "traceback": [
            "\u001b[0;31m---------------------------------------------------------------------------\u001b[0m",
            "\u001b[0;31mNameError\u001b[0m                                 Traceback (most recent call last)",
            "\u001b[0;32m<ipython-input-10-ba23a5d1ed20>\u001b[0m in \u001b[0;36m<module>\u001b[0;34m()\u001b[0m\n\u001b[1;32m      2\u001b[0m \u001b[0mplt\u001b[0m\u001b[0;34m.\u001b[0m\u001b[0mfigure\u001b[0m\u001b[0;34m(\u001b[0m\u001b[0;34m)\u001b[0m\u001b[0;34m\u001b[0m\u001b[0;34m\u001b[0m\u001b[0m\n\u001b[1;32m      3\u001b[0m \u001b[0;31m#plt.plot(s _losses)\u001b[0m\u001b[0;34m\u001b[0m\u001b[0;34m\u001b[0m\u001b[0;34m\u001b[0m\u001b[0m\n\u001b[0;32m----> 4\u001b[0;31m \u001b[0mplt\u001b[0m\u001b[0;34m.\u001b[0m\u001b[0mplot\u001b[0m\u001b[0;34m(\u001b[0m\u001b[0mval_losses\u001b[0m\u001b[0;34m)\u001b[0m\u001b[0;34m\u001b[0m\u001b[0;34m\u001b[0m\u001b[0m\n\u001b[0m\u001b[1;32m      5\u001b[0m \u001b[0mplt\u001b[0m\u001b[0;34m.\u001b[0m\u001b[0mshow\u001b[0m\u001b[0;34m(\u001b[0m\u001b[0;34m)\u001b[0m\u001b[0;34m\u001b[0m\u001b[0;34m\u001b[0m\u001b[0m\n",
            "\u001b[0;31mNameError\u001b[0m: name 'val_losses' is not defined"
          ]
        },
        {
          "output_type": "display_data",
          "data": {
            "text/plain": [
              "<Figure size 432x288 with 0 Axes>"
            ]
          },
          "metadata": {
            "tags": []
          }
        }
      ]
    },
    {
      "cell_type": "code",
      "metadata": {
        "id": "2cidK3YmdxsU",
        "colab_type": "code",
        "outputId": "635717d8-e1f9-43dd-d183-d00ce593a3cb",
        "colab": {
          "base_uri": "https://localhost:8080/",
          "height": 221
        }
      },
      "source": [
        "from sklearn.metrics import classification_report,confusion_matrix\n",
        "import numpy as np\n",
        "\n",
        "y=y_test\n",
        "x=xte\n",
        "\n",
        "y_true = np.argmax(y, axis=1)\n",
        "y_pred1 = model.predict(x_test)\n",
        "y_pred=np.argmax(y_pred1,axis=1)\n",
        "print(classification_report(y_true, y_pred))"
      ],
      "execution_count": 0,
      "outputs": [
        {
          "output_type": "stream",
          "text": [
            "              precision    recall  f1-score   support\n",
            "\n",
            "           0       0.56      1.00      0.71        20\n",
            "           1       1.00      0.60      0.75        20\n",
            "           2       1.00      0.55      0.71        20\n",
            "           3       0.62      0.80      0.70        20\n",
            "           4       1.00      0.75      0.86        20\n",
            "\n",
            "    accuracy                           0.74       100\n",
            "   macro avg       0.83      0.74      0.75       100\n",
            "weighted avg       0.83      0.74      0.75       100\n",
            "\n"
          ],
          "name": "stdout"
        }
      ]
    },
    {
      "cell_type": "code",
      "metadata": {
        "id": "WwoDBBhoziUY",
        "colab_type": "code",
        "outputId": "d173cf83-35d9-4eee-819f-97c6bb02d22c",
        "colab": {
          "base_uri": "https://localhost:8080/",
          "height": 34
        }
      },
      "source": [
        "history_dict = history.history\n",
        "history_dict.keys()"
      ],
      "execution_count": 0,
      "outputs": [
        {
          "output_type": "execute_result",
          "data": {
            "text/plain": [
              "dict_keys(['val_loss', 'val_acc', 'loss', 'acc'])"
            ]
          },
          "metadata": {
            "tags": []
          },
          "execution_count": 38
        }
      ]
    },
    {
      "cell_type": "code",
      "metadata": {
        "id": "mxZRA-yOd0Sn",
        "colab_type": "code",
        "colab": {}
      },
      "source": [
        "from keras.utils.vis_utils import plot_model\n",
        "plot_model(model, to_file='model.png', show_shapes=True, show_layer_names=True)\n",
        "\n",
        "from IPython.display import Image\n",
        "Image(retina=True, filename='model.png')"
      ],
      "execution_count": 0,
      "outputs": []
    }
  ]
}